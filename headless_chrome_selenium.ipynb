{
 "cells": [
  {
   "cell_type": "code",
   "execution_count": 65,
   "metadata": {
    "collapsed": true
   },
   "outputs": [],
   "source": [
    "# close chrome driver by calling quit()\n",
    "driver.quit()"
   ]
  },
  {
   "cell_type": "code",
   "execution_count": 58,
   "metadata": {
    "collapsed": true
   },
   "outputs": [],
   "source": [
    "from selenium import webdriver\n",
    "import time"
   ]
  },
  {
   "cell_type": "code",
   "execution_count": 59,
   "metadata": {
    "collapsed": true
   },
   "outputs": [],
   "source": [
    "http_proxy=\"localhost:8118\""
   ]
  },
  {
   "cell_type": "code",
   "execution_count": 60,
   "metadata": {
    "collapsed": true
   },
   "outputs": [],
   "source": [
    "options = webdriver.ChromeOptions()\n",
    "# MacOS\n",
    "options.binary_location = '/Applications/Google Chrome.app/Contents/MacOS/Google Chrome'\n",
    "# Linux\n",
    "# options.binary_location = '/usr/bin/google-chrome-stable'\n",
    "\n",
    "# comment headless argument for debugging/ visualization\n",
    "# options.add_argument('headless')\n",
    "options.add_argument('window-size=1200x600')\n",
    "# add proxy, restarting chrome needed if not work\n",
    "options.add_argument('--proxy-server={0}'.format(http_proxy))\n",
    "driver = webdriver.Chrome(chrome_options=options)"
   ]
  },
  {
   "cell_type": "code",
   "execution_count": 61,
   "metadata": {
    "collapsed": true
   },
   "outputs": [],
   "source": [
    "def scroll_down(driver):\n",
    "    SCROLL_PAUSE_TIME = 1\n",
    "\n",
    "    # Get scroll height\n",
    "    last_height = driver.execute_script(\"return document.body.scrollHeight\")\n",
    "\n",
    "    while True:\n",
    "        print(\"scroll down event\")\n",
    "        # Scroll down to bottom\n",
    "        driver.execute_script(\"window.scrollTo(0, document.body.scrollHeight);\")\n",
    "\n",
    "        # Wait to load page\n",
    "        time.sleep(SCROLL_PAUSE_TIME)\n",
    "        \n",
    "        # Click show more button if any\n",
    "        show_more_btn = driver.find_element_by_css_selector('#smb')\n",
    "        try:\n",
    "            print(show_more_btn.get_attribute(\"outerHTML\"))\n",
    "            show_more_btn.click()\n",
    "        except:\n",
    "            x = 0\n",
    "\n",
    "        # Calculate new scroll height and compare with last scroll height\n",
    "        new_height = driver.execute_script(\"return document.body.scrollHeight\")\n",
    "        if new_height == last_height:\n",
    "            break\n",
    "        last_height = new_height"
   ]
  },
  {
   "cell_type": "code",
   "execution_count": 34,
   "metadata": {},
   "outputs": [
    {
     "name": "stdout",
     "output_type": "stream",
     "text": [
      "scroll down event\n",
      "scroll down event\n",
      "scroll down event\n",
      "scroll down event\n",
      "scroll down event\n",
      "scroll down event\n",
      "scroll down event\n",
      "scroll down event\n",
      "scroll down event\n",
      "scroll down event\n",
      "scroll down event\n",
      "scroll down event\n",
      "scroll down event\n",
      "scroll down event\n",
      "scroll down event\n"
     ]
    },
    {
     "ename": "KeyboardInterrupt",
     "evalue": "",
     "output_type": "error",
     "traceback": [
      "\u001b[0;31m---------------------------------------------------------------------------\u001b[0m",
      "\u001b[0;31mKeyboardInterrupt\u001b[0m                         Traceback (most recent call last)",
      "\u001b[0;32m<ipython-input-34-2523b6476104>\u001b[0m in \u001b[0;36m<module>\u001b[0;34m()\u001b[0m\n\u001b[1;32m      2\u001b[0m \u001b[0mdriver\u001b[0m\u001b[0;34m.\u001b[0m\u001b[0mget\u001b[0m\u001b[0;34m(\u001b[0m\u001b[0;34m'https://image.baidu.com/search/index?tn=baiduimage&ipn=r&ct=201326592&cl=2&lm=-1&st=-1&fm=index&fr=&hs=0&xthttps=111111&sf=1&fmq=&pv=&ic=0&nc=1&z=&se=1&showtab=0&fb=0&width=&height=&face=0&istype=2&ie=utf-8&word=%E9%A3%8E%E6%99%AF'\u001b[0m\u001b[0;34m)\u001b[0m\u001b[0;34m\u001b[0m\u001b[0m\n\u001b[1;32m      3\u001b[0m \u001b[0;34m\u001b[0m\u001b[0m\n\u001b[0;32m----> 4\u001b[0;31m \u001b[0mscroll_down\u001b[0m\u001b[0;34m(\u001b[0m\u001b[0mdriver\u001b[0m\u001b[0;34m)\u001b[0m\u001b[0;34m\u001b[0m\u001b[0m\n\u001b[0m",
      "\u001b[0;32m<ipython-input-33-7be4e932b6ec>\u001b[0m in \u001b[0;36mscroll_down\u001b[0;34m(driver)\u001b[0m\n\u001b[1;32m     11\u001b[0m \u001b[0;34m\u001b[0m\u001b[0m\n\u001b[1;32m     12\u001b[0m         \u001b[0;31m# Wait to load page\u001b[0m\u001b[0;34m\u001b[0m\u001b[0;34m\u001b[0m\u001b[0m\n\u001b[0;32m---> 13\u001b[0;31m         \u001b[0mtime\u001b[0m\u001b[0;34m.\u001b[0m\u001b[0msleep\u001b[0m\u001b[0;34m(\u001b[0m\u001b[0mSCROLL_PAUSE_TIME\u001b[0m\u001b[0;34m)\u001b[0m\u001b[0;34m\u001b[0m\u001b[0m\n\u001b[0m\u001b[1;32m     14\u001b[0m \u001b[0;34m\u001b[0m\u001b[0m\n\u001b[1;32m     15\u001b[0m         \u001b[0;31m# Calculate new scroll height and compare with last scroll height\u001b[0m\u001b[0;34m\u001b[0m\u001b[0;34m\u001b[0m\u001b[0m\n",
      "\u001b[0;31mKeyboardInterrupt\u001b[0m: "
     ]
    }
   ],
   "source": [
    "# https://stackoverflow.com/questions/20986631/how-can-i-scroll-a-web-page-using-selenium-webdriver-in-python\n",
    "driver.get('https://image.baidu.com/search/index?tn=baiduimage&ipn=r&ct=201326592&cl=2&lm=-1&st=-1&fm=index&fr=&hs=0&xthttps=111111&sf=1&fmq=&pv=&ic=0&nc=1&z=&se=1&showtab=0&fb=0&width=&height=&face=0&istype=2&ie=utf-8&word=%E9%A3%8E%E6%99%AF')\n",
    "\n",
    "scroll_down(driver)"
   ]
  },
  {
   "cell_type": "code",
   "execution_count": null,
   "metadata": {},
   "outputs": [],
   "source": [
    "# basic operations\n",
    "driver.get('https://www.google.com/imghp?hl=en&tab=wi&authuser=0')\n",
    "# chrome extension, get xpath of element, http://selectorgadget.com/\n",
    "search = driver.find_element_by_css_selector('input#lst-ib')\n",
    "click = driver.find_element_by_css_selector('#sfdiv :nth-child(1)')\n",
    "search.send_keys(\"golang\")\n",
    "click.click()"
   ]
  },
  {
   "cell_type": "code",
   "execution_count": 4,
   "metadata": {},
   "outputs": [
    {
     "data": {
      "text/plain": [
       "True"
      ]
     },
     "execution_count": 4,
     "metadata": {},
     "output_type": "execute_result"
    }
   ],
   "source": [
    "# save image\n",
    "driver.get_screenshot_as_file('main-page2.png')"
   ]
  },
  {
   "cell_type": "markdown",
   "metadata": {},
   "source": [
    "![title](main-page2.png)"
   ]
  },
  {
   "cell_type": "code",
   "execution_count": 62,
   "metadata": {
    "collapsed": true
   },
   "outputs": [],
   "source": [
    "def download_pagev2(url):\n",
    "    driver.get(url)\n",
    "    scroll_down(driver)\n",
    "    elem = driver.find_element_by_xpath(\"//*\")\n",
    "    page = elem.get_attribute(\"outerHTML\")\n",
    "    return page"
   ]
  },
  {
   "cell_type": "code",
   "execution_count": 63,
   "metadata": {
    "scrolled": true
   },
   "outputs": [
    {
     "name": "stdout",
     "output_type": "stream",
     "text": [
      "scroll down event\n",
      "<input class=\"ksb huRCDf\" value=\"显示更多结果\" id=\"smb\" data-lt=\"正在加载...\" type=\"button\" data-ved=\"0ahUKEwisgrnl9IzaAhVKpZQKHVFnAPAQxdoBCFE\">\n",
      "scroll down event\n",
      "<input class=\"ksb huRCDf\" value=\"显示更多结果\" id=\"smb\" data-lt=\"正在加载...\" type=\"button\" data-ved=\"0ahUKEwisgrnl9IzaAhVKpZQKHVFnAPAQxdoBCFE\">\n",
      "scroll down event\n",
      "<input class=\"ksb huRCDf\" value=\"显示更多结果\" id=\"smb\" data-lt=\"正在加载...\" type=\"button\" data-ved=\"0ahUKEwisgrnl9IzaAhVKpZQKHVFnAPAQxdoBCFE\">\n",
      "scroll down event\n",
      "<input class=\"ksb huRCDf\" value=\"显示更多结果\" id=\"smb\" data-lt=\"正在加载...\" type=\"button\" data-ved=\"0ahUKEwisgrnl9IzaAhVKpZQKHVFnAPAQxdoBCFE\">\n"
     ]
    }
   ],
   "source": [
    "# '<html><head></head><body></body></html>' 返回空白页面，就google域名是空白？\n",
    "raw_html = download_pagev2(\"https://www.google.com/search?q=Brinjal%20Fruit%20Borer&espv=2&biw=1366&bih=667&site=webhp&source=lnms&tbm=isch&tbs=&sa=X&ei=XosDVaCXD8TasATItgE&ved=0CAcQ_AUoAg\")"
   ]
  },
  {
   "cell_type": "code",
   "execution_count": 25,
   "metadata": {
    "collapsed": true
   },
   "outputs": [],
   "source": [
    "def _images_get_next_item(s):\n",
    "    start_line = s.find('rg_di')\n",
    "    if start_line == -1:  # If no links are found then give an error!\n",
    "        end_quote = 0\n",
    "        link = \"no_links\"\n",
    "        return link, end_quote\n",
    "    else:\n",
    "        start_line = s.find('\"class=\"rg_meta\"')\n",
    "        start_content = s.find('\"ou\"', start_line + 1)\n",
    "        end_content = s.find(',\"ow\"', start_content + 1)\n",
    "        content_raw = str(s[start_content + 6:end_content - 1])\n",
    "        return content_raw, end_content\n",
    "\n",
    "\n",
    "# Getting all links with the help of '_images_get_next_image'\n",
    "def _images_get_all_items(page):\n",
    "    items = []\n",
    "    while True:\n",
    "        item, end_content = _images_get_next_item(page)\n",
    "        if item == \"no_links\":\n",
    "            break\n",
    "        else:\n",
    "            items.append(item)  # Append all the links in the list named 'Links'\n",
    "            time.sleep(0.1)  # Timer could be used to slow down the request for image downloads\n",
    "            page = page[end_content:]\n",
    "    return items"
   ]
  },
  {
   "cell_type": "code",
   "execution_count": null,
   "metadata": {},
   "outputs": [],
   "source": [
    "len(_images_get_all_items(raw_html))"
   ]
  }
 ],
 "metadata": {
  "kernelspec": {
   "display_name": "Python 3",
   "language": "python",
   "name": "python3"
  },
  "language_info": {
   "codemirror_mode": {
    "name": "ipython",
    "version": 3
   },
   "file_extension": ".py",
   "mimetype": "text/x-python",
   "name": "python",
   "nbconvert_exporter": "python",
   "pygments_lexer": "ipython3",
   "version": "3.6.3"
  }
 },
 "nbformat": 4,
 "nbformat_minor": 2
}
