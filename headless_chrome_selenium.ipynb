{
 "cells": [
  {
   "cell_type": "code",
   "execution_count": 1,
   "metadata": {},
   "outputs": [],
   "source": [
    "from bs4 import BeautifulSoup\n",
    "import json\n",
    "from selenium import webdriver\n",
    "import time"
   ]
  },
  {
   "cell_type": "code",
   "execution_count": 2,
   "metadata": {},
   "outputs": [],
   "source": [
    "# ref: https://stackoverflow.com/questions/20986631/how-can-i-scroll-a-web-page-using-selenium-webdriver-in-python\n",
    "def scroll_down_to_bottom(driver):\n",
    "    SCROLL_PAUSE_TIME = 1\n",
    "\n",
    "    # Get scroll height\n",
    "    last_height = driver.execute_script(\"return document.body.scrollHeight\")\n",
    "\n",
    "    while True:\n",
    "#         print(\"scroll down event\")\n",
    "        # Scroll down to bottom\n",
    "        driver.execute_script(\"window.scrollTo(0, document.body.scrollHeight);\")\n",
    "\n",
    "        # Wait to load page\n",
    "        time.sleep(SCROLL_PAUSE_TIME)\n",
    "        \n",
    "        # Click show more button if any\n",
    "        show_more_btn = driver.find_element_by_css_selector('#smb')\n",
    "        try:\n",
    "#             print(show_more_btn.get_attribute(\"outerHTML\"))\n",
    "            show_more_btn.click()\n",
    "        except:\n",
    "            x = 0\n",
    "\n",
    "        # Calculate new scroll height and compare with last scroll height\n",
    "        new_height = driver.execute_script(\"return document.body.scrollHeight\")\n",
    "        if new_height == last_height:\n",
    "            break\n",
    "        last_height = new_height"
   ]
  },
  {
   "cell_type": "code",
   "execution_count": 3,
   "metadata": {},
   "outputs": [],
   "source": [
    "def download_page_internal(driver, url):\n",
    "    driver.get(url)\n",
    "    scroll_down_to_bottom(driver)\n",
    "    elem = driver.find_element_by_xpath(\"//*\")\n",
    "    page = elem.get_attribute(\"outerHTML\")\n",
    "    return page"
   ]
  },
  {
   "cell_type": "code",
   "execution_count": 4,
   "metadata": {
    "scrolled": false
   },
   "outputs": [],
   "source": [
    "def get_image_urls_from_html(raw_html):\n",
    "    soup = BeautifulSoup(raw_html, \"lxml\")\n",
    "    divs = soup.find_all('div', class_='rg_meta notranslate')\n",
    "    return [json.loads(div.text)['ou'] for div in divs]"
   ]
  },
  {
   "cell_type": "code",
   "execution_count": 5,
   "metadata": {
    "scrolled": false
   },
   "outputs": [],
   "source": [
    "def get_all_items_from_url(url):\n",
    "    try:\n",
    "        options = webdriver.ChromeOptions()\n",
    "        # MacOS\n",
    "        # options.binary_location = '/Applications/Google Chrome.app/Contents/MacOS/Google Chrome'\n",
    "        # Linux chrome binary\n",
    "        options.binary_location = '/usr/bin/google-chrome-stable'\n",
    "        # comment headless argument for debugging/ visualization\n",
    "        options.add_argument('headless')\n",
    "        options.add_argument('window-size=1200x600')\n",
    "\n",
    "        # add proxy, restarting chrome needed if not work\n",
    "        http_proxy=\"localhost:8123\"\n",
    "        options.add_argument('--proxy-server={0}'.format(http_proxy))\n",
    "\n",
    "        driver = webdriver.Chrome(chrome_options=options)\n",
    "    \n",
    "        raw_html = download_page_internal(driver, url)\n",
    "        return get_image_urls_from_html(raw_html)\n",
    "    except:\n",
    "        return []\n",
    "    finally:\n",
    "        # close chrome driver by calling quit()\n",
    "        driver.quit()"
   ]
  },
  {
   "cell_type": "code",
   "execution_count": 6,
   "metadata": {},
   "outputs": [],
   "source": [
    "links = get_all_items_from_url(\"https://www.google.com/search?q=Brinjal%20Fruit%20Borer&espv=2&biw=1366&bih=667&site=webhp&source=lnms&tbm=isch&tbs=&sa=X&ei=XosDVaCXD8TasATItgE&ved=0CAcQ_AUoAg\")"
   ]
  },
  {
   "cell_type": "code",
   "execution_count": 7,
   "metadata": {},
   "outputs": [
    {
     "data": {
      "text/plain": [
       "789"
      ]
     },
     "execution_count": 7,
     "metadata": {},
     "output_type": "execute_result"
    }
   ],
   "source": [
    "len(links)"
   ]
  },
  {
   "cell_type": "code",
   "execution_count": 8,
   "metadata": {},
   "outputs": [],
   "source": [
    "# # basic operations\n",
    "# driver.get('https://www.google.com/imghp?hl=en&tab=wi&authuser=0')\n",
    "# # chrome extension, get xpath of element, http://selectorgadget.com/\n",
    "# search = driver.find_element_by_css_selector('input#lst-ib')\n",
    "# click = driver.find_element_by_css_selector('#sfdiv :nth-child(1)')\n",
    "# search.send_keys(\"golang\")\n",
    "# click.click()\n",
    "# # save image\n",
    "# driver.get_screenshot_as_file('main-page2.png')"
   ]
  }
 ],
 "metadata": {
  "kernelspec": {
   "display_name": "Python 3",
   "language": "python",
   "name": "python3"
  },
  "language_info": {
   "codemirror_mode": {
    "name": "ipython",
    "version": 3
   },
   "file_extension": ".py",
   "mimetype": "text/x-python",
   "name": "python",
   "nbconvert_exporter": "python",
   "pygments_lexer": "ipython3",
   "version": "3.6.4"
  }
 },
 "nbformat": 4,
 "nbformat_minor": 2
}
